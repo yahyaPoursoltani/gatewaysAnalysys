{
 "cells": [
  {
   "cell_type": "markdown",
   "metadata": {},
   "source": [
    "# Parse BPMN File to Networkx Graph\n",
    "Yahya Poursoltani"
   ]
  },
  {
   "cell_type": "markdown",
   "metadata": {},
   "source": [
    "# XML Parser : List of Tasks"
   ]
  },
  {
   "cell_type": "code",
   "execution_count": 1,
   "metadata": {},
   "outputs": [],
   "source": [
    "import networkx as nx\n",
    "from xml.dom import minidom\n",
    "data = minidom.parse(\"dataset/gateway_graphs/graph_11_false_example.bpmn\");\n",
    "process_graph= nx.MultiDiGraph()"
   ]
  },
  {
   "cell_type": "markdown",
   "metadata": {},
   "source": [
    "## Gateways "
   ]
  },
  {
   "cell_type": "markdown",
   "metadata": {},
   "source": [
    "### extract gateways"
   ]
  },
  {
   "cell_type": "code",
   "execution_count": 2,
   "metadata": {},
   "outputs": [],
   "source": [
    "xors= data.getElementsByTagName('exclusiveGateway')\n",
    "ors= data.getElementsByTagName('inclusiveGateway')\n",
    "parallels= data.getElementsByTagName('parallelGateway')"
   ]
  },
  {
   "cell_type": "markdown",
   "metadata": {},
   "source": [
    "### create gateways nodes"
   ]
  },
  {
   "cell_type": "code",
   "execution_count": 3,
   "metadata": {},
   "outputs": [],
   "source": [
    "for xor in xors:\n",
    "    process_graph.add_node(str(xor.attributes['id'].value),\n",
    "                         node_id= xor.attributes['id'].value,\n",
    "                         node_type='xor_gateway')\n",
    "for parallel in parallels:\n",
    "    process_graph.add_node(str(parallel.attributes['id'].value),\n",
    "                         node_id= parallel.attributes['id'].value,\n",
    "                         node_type='parallel_gateway')\n",
    "\n",
    "for inor in ors:\n",
    "    process_graph.add_node(str(inor.attributes['id'].value),\n",
    "                          node_id=inor.attributes['id'].value,\n",
    "                          node_type='or_gateway')\n",
    "      "
   ]
  },
  {
   "cell_type": "markdown",
   "metadata": {},
   "source": [
    "## Events"
   ]
  },
  {
   "cell_type": "markdown",
   "metadata": {},
   "source": [
    "### extract events"
   ]
  },
  {
   "cell_type": "code",
   "execution_count": 4,
   "metadata": {},
   "outputs": [],
   "source": [
    "intermediate_events_thrown= data.getElementsByTagName('intermediateThrowEvent')\n",
    "intermediate_events_catched= data.getElementsByTagName('intermediateCatchEvent')\n",
    "startEvents= data.getElementsByTagName('startEvent')\n",
    "endEvents= data.getElementsByTagName('endEvent')\n",
    "intermediate_events= intermediate_events_catched+intermediate_events_thrown"
   ]
  },
  {
   "cell_type": "markdown",
   "metadata": {},
   "source": [
    "### create event nodes"
   ]
  },
  {
   "cell_type": "code",
   "execution_count": 5,
   "metadata": {},
   "outputs": [],
   "source": [
    "for se in startEvents:\n",
    "    process_graph.add_node(str(se.attributes['id'].value),\n",
    "                         node_id= se.attributes['id'].value,\n",
    "                         node_type='start_event')\n",
    "\n",
    "\n",
    "for inter in intermediate_events:\n",
    "    process_graph.add_node(str(inter.attributes['id'].value),\n",
    "                              node_id=inter.attributes['id'].value,\n",
    "                          node_type='intermediate_gateway')\n",
    "    \n",
    "for ee in endEvents:\n",
    "    process_graph.add_node(str(ee.attributes['id'].value),\n",
    "                         node_id= ee.attributes['id'].value,\n",
    "                         node_type='end_event')\n"
   ]
  },
  {
   "cell_type": "markdown",
   "metadata": {},
   "source": [
    "## Activities"
   ]
  },
  {
   "cell_type": "markdown",
   "metadata": {},
   "source": [
    "### extract activities"
   ]
  },
  {
   "cell_type": "code",
   "execution_count": 6,
   "metadata": {},
   "outputs": [],
   "source": [
    "tasks= data.getElementsByTagName('task')\n",
    "user_tasks= data.getElementsByTagName('userTask')\n",
    "service_tasks= data.getElementsByTagName('serviceTask')\n",
    "send_tasks= data.getElementsByTagName('sendTask')\n",
    "script_tasks= data.getElementsByTagName('scriptTask')\n",
    "manual_tasks= data.getElementsByTagName('manualTask')\n",
    "business_rule_tasks= data.getElementsByTagName('businessRuleTask')"
   ]
  },
  {
   "cell_type": "code",
   "execution_count": 7,
   "metadata": {},
   "outputs": [],
   "source": [
    "\n",
    "activities = tasks+user_tasks+service_tasks+send_tasks+script_tasks+manual_tasks+business_rule_tasks\n",
    "boundry_tasks=[]"
   ]
  },
  {
   "cell_type": "markdown",
   "metadata": {},
   "source": [
    "### Handling Boundry events"
   ]
  },
  {
   "cell_type": "code",
   "execution_count": 8,
   "metadata": {},
   "outputs": [],
   "source": [
    "for task in activities:\n",
    "    process_graph.add_node(str(task.attributes['id'].value),\n",
    "                         node_id= task.attributes['id'].value,\n",
    "                         node_lable=task.attributes['name'].value,\n",
    "                         node_type='activity')\n"
   ]
  },
  {
   "cell_type": "code",
   "execution_count": 9,
   "metadata": {},
   "outputs": [],
   "source": [
    "boundry_events= data.getElementsByTagName('boundaryEvent')\n",
    "boundry_event_id=[]\n",
    "for be in boundry_events:\n",
    "    if process_graph.has_node(be.attributes['attachedToRef'].value):\n",
    "        process_graph.remove_node(be.attributes['attachedToRef'].value)\n",
    "        \n",
    "    process_graph.add_node(str(be.attributes['attachedToRef'].value),\n",
    "                         node_id= be.attributes['id'].value,\n",
    "                         task_id=be.attributes['attachedToRef'].value,\n",
    "                         node_type='boundry_activity')\n",
    "    boundry_event_id.append(be.attributes['id'].value)"
   ]
  },
  {
   "cell_type": "code",
   "execution_count": 10,
   "metadata": {},
   "outputs": [
    {
     "data": {
      "text/plain": [
       "[('Id_5f76b960-679c-4a04-9821-83d448b05954',\n",
       "  {'node_id': 'Id_5f76b960-679c-4a04-9821-83d448b05954',\n",
       "   'node_type': 'xor_gateway'}),\n",
       " ('Id_04392c03-246b-466b-a860-641b7c47e385',\n",
       "  {'node_id': 'Id_04392c03-246b-466b-a860-641b7c47e385',\n",
       "   'node_type': 'parallel_gateway'}),\n",
       " ('Id_cf814e58-ad10-4ac6-9642-13713c16d6e7',\n",
       "  {'node_id': 'Id_cf814e58-ad10-4ac6-9642-13713c16d6e7',\n",
       "   'node_type': 'parallel_gateway'}),\n",
       " ('Id_61547d6d-34b5-43bd-acd7-285d5a41cb81',\n",
       "  {'node_id': 'Id_61547d6d-34b5-43bd-acd7-285d5a41cb81',\n",
       "   'node_type': 'parallel_gateway'}),\n",
       " ('Id_c0725361-291b-4633-afa1-f4d0bac01123',\n",
       "  {'node_id': 'Id_c0725361-291b-4633-afa1-f4d0bac01123',\n",
       "   'node_type': 'parallel_gateway'}),\n",
       " ('Id_14e105b5-0f8e-4dbd-abef-2063e3a1b066',\n",
       "  {'node_id': 'Id_14e105b5-0f8e-4dbd-abef-2063e3a1b066',\n",
       "   'node_type': 'parallel_gateway'}),\n",
       " ('Id_0c57f133-6cd3-47bb-9272-c231adbe8a3d',\n",
       "  {'node_id': 'Id_0c57f133-6cd3-47bb-9272-c231adbe8a3d',\n",
       "   'node_type': 'start_event'}),\n",
       " ('Id_d08997df-77f9-453d-8f4c-adf14e7c2e20',\n",
       "  {'node_id': 'Id_d08997df-77f9-453d-8f4c-adf14e7c2e20',\n",
       "   'node_type': 'end_event'})]"
      ]
     },
     "execution_count": 10,
     "metadata": {},
     "output_type": "execute_result"
    }
   ],
   "source": [
    "for be in endEvents:\n",
    "    process_graph.add_node(str(ee.attributes['id'].value),\n",
    "                         node_id= ee.attributes['id'].value,\n",
    "                         node_type='end_event')\n",
    "list(process_graph.nodes(data=True))"
   ]
  },
  {
   "cell_type": "markdown",
   "metadata": {},
   "source": [
    "# List of Arcs"
   ]
  },
  {
   "cell_type": "code",
   "execution_count": 11,
   "metadata": {},
   "outputs": [],
   "source": [
    "arcs= data.getElementsByTagName(\"sequenceFlow\")\n",
    "edges=[]"
   ]
  },
  {
   "cell_type": "code",
   "execution_count": 12,
   "metadata": {},
   "outputs": [
    {
     "name": "stdout",
     "output_type": "stream",
     "text": [
      "('Id_04392c03-246b-466b-a860-641b7c47e385', 'Id_d08997df-77f9-453d-8f4c-adf14e7c2e20')\n",
      "('Id_0c57f133-6cd3-47bb-9272-c231adbe8a3d', 'Id_cf814e58-ad10-4ac6-9642-13713c16d6e7')\n",
      "('Id_04392c03-246b-466b-a860-641b7c47e385', 'Id_cf814e58-ad10-4ac6-9642-13713c16d6e7')\n",
      "('Id_61547d6d-34b5-43bd-acd7-285d5a41cb81', 'Id_14e105b5-0f8e-4dbd-abef-2063e3a1b066')\n",
      "('Id_14e105b5-0f8e-4dbd-abef-2063e3a1b066', 'Id_c0725361-291b-4633-afa1-f4d0bac01123')\n",
      "('Id_14e105b5-0f8e-4dbd-abef-2063e3a1b066', 'Id_5f76b960-679c-4a04-9821-83d448b05954')\n",
      "('Id_5f76b960-679c-4a04-9821-83d448b05954', 'Id_c0725361-291b-4633-afa1-f4d0bac01123')\n",
      "('Id_61547d6d-34b5-43bd-acd7-285d5a41cb81', 'Id_5f76b960-679c-4a04-9821-83d448b05954')\n",
      "('Id_c0725361-291b-4633-afa1-f4d0bac01123', 'Id_04392c03-246b-466b-a860-641b7c47e385')\n",
      "('Id_cf814e58-ad10-4ac6-9642-13713c16d6e7', 'Id_61547d6d-34b5-43bd-acd7-285d5a41cb81')\n"
     ]
    }
   ],
   "source": [
    "for arc in arcs:\n",
    "    #print('id:',arc.attributes['id'].value)\n",
    "    source = arc.attributes['sourceRef'].value\n",
    "    target = arc.attributes['targetRef'].value\n",
    "    edges.append((source,target))\n",
    "    \n",
    "for edge in edges:\n",
    "    print(edge)"
   ]
  },
  {
   "cell_type": "code",
   "execution_count": 13,
   "metadata": {},
   "outputs": [
    {
     "data": {
      "text/plain": [
       "[0, 0, 0, 0, 0, 0, 0, 0, 0, 0]"
      ]
     },
     "execution_count": 13,
     "metadata": {},
     "output_type": "execute_result"
    }
   ],
   "source": [
    "process_graph.add_edges_from(edges)"
   ]
  },
  {
   "cell_type": "markdown",
   "metadata": {},
   "source": [
    "# Draw Graph"
   ]
  },
  {
   "cell_type": "code",
   "execution_count": 14,
   "metadata": {},
   "outputs": [
    {
     "data": {
      "image/png": "[encoded data removed]",
      "text/plain": [
       "<Figure size 432x288 with 1 Axes>"
      ]
     },
     "metadata": {},
     "output_type": "display_data"
    }
   ],
   "source": [
    "def draw_process_graph(processGraph):\n",
    "    nodes_color_map=[]\n",
    "    for node in list(processGraph.nodes):\n",
    "        if processGraph.nodes[node][\"node_type\"]== \"activity\":\n",
    "            nodes_color_map.append(\"blue\")\n",
    "        elif processGraph.nodes[node][\"node_type\"]== \"boundry_activity\":\n",
    "            nodes_color_map.append(\"orange\")\n",
    "        elif processGraph.nodes[node][\"node_type\"]== \"parallel_gateway\":\n",
    "            nodes_color_map.append(\"red\")\n",
    "        elif processGraph.nodes[node][\"node_type\"]== \"xor_gateway\":\n",
    "            nodes_color_map.append(\"green\")\n",
    "        elif processGraph.nodes[node][\"node_type\"]== \"or_gateway\":\n",
    "            nodes_color_map.append(\"green\")\n",
    "        elif processGraph.nodes[node][\"node_type\"]== \"intermediate_event\":\n",
    "            nodes_color_map.append(\"purple\")\n",
    "        elif processGraph.nodes[node][\"node_type\"]== \"start_event\":\n",
    "            nodes_color_map.append(\"#c8f8cb\")\n",
    "        elif processGraph.nodes[node][\"node_type\"]== \"end_event\":\n",
    "            nodes_color_map.append(\"#f1a2a2\")\n",
    "    nx.draw(processGraph,node_size=500,node_color=nodes_color_map,with_labels=True)\n",
    "draw_process_graph(process_graph)"
   ]
  },
  {
   "cell_type": "markdown",
   "metadata": {},
   "source": [
    "# Basic Functions"
   ]
  },
  {
   "cell_type": "markdown",
   "metadata": {},
   "source": [
    "## Check for join Node Matching"
   ]
  },
  {
   "cell_type": "code",
   "execution_count": 15,
   "metadata": {},
   "outputs": [],
   "source": [
    "def match_nodes(process_graph,split_node,join_node):\n",
    "    match = True\n",
    "    reverse_graph = process_graph.reverse(copy= True)\n",
    "    privious_nodes = list(reverse_graph.neighbors(join_node))\n",
    "    for nod in privious_nodes:\n",
    "        if nod != split_node:\n",
    "            match = False\n",
    "    return match"
   ]
  },
  {
   "cell_type": "markdown",
   "metadata": {},
   "source": [
    "## Check for and/or split/join"
   ]
  },
  {
   "cell_type": "code",
   "execution_count": 16,
   "metadata": {},
   "outputs": [],
   "source": [
    "def is_and_split(process_graph,node_id):\n",
    "    has_this_node= node_id in process_graph\n",
    "    is_and=False\n",
    "    deg_state=False\n",
    "    \n",
    "    if process_graph.nodes[node_id][\"node_type\"] == \"parallel_gateway\":\n",
    "        is_and=True\n",
    "    \n",
    "    if process_graph.in_degree(node_id) == 1 and process_graph.out_degree(node_id)>=1:\n",
    "        deg_state=True\n",
    "        \n",
    "    return has_this_node and is_and and deg_state"
   ]
  },
  {
   "cell_type": "code",
   "execution_count": 17,
   "metadata": {},
   "outputs": [],
   "source": [
    "def is_and_join(process_graph,node_id):\n",
    "    has_this_node= node_id in process_graph\n",
    "    is_and=False\n",
    "    deg_state=False\n",
    "    \n",
    "    if process_graph.nodes[node_id][\"node_type\"] == \"parallel_gateway\":\n",
    "        is_and=True\n",
    "    \n",
    "    if process_graph.in_degree(node_id) >= 1 and process_graph.out_degree(node_id)==1:\n",
    "        deg_state=True\n",
    "        \n",
    "    return has_this_node and is_and and deg_state"
   ]
  },
  {
   "cell_type": "code",
   "execution_count": 18,
   "metadata": {},
   "outputs": [],
   "source": [
    "def is_or_split(process_graph,node_id):\n",
    "    has_this_node= node_id in process_graph\n",
    "    is_or=False\n",
    "    deg_state=False\n",
    "    \n",
    "    if process_graph.nodes[node_id][\"node_type\"] == \"or_gateway\" or process_graph.nodes[node_id][\"node_type\"] == \"xor_gateway\":\n",
    "        is_or=True\n",
    "    \n",
    "    if process_graph.in_degree(node_id) == 1 and process_graph.out_degree(node_id)>=1:\n",
    "        deg_state=True\n",
    "        \n",
    "    return has_this_node and is_or and deg_state"
   ]
  },
  {
   "cell_type": "code",
   "execution_count": 19,
   "metadata": {},
   "outputs": [],
   "source": [
    "def is_or_join(process_graph,node_id):\n",
    "    has_this_node= node_id in process_graph\n",
    "    is_or=False\n",
    "    deg_state=False\n",
    "    \n",
    "    if process_graph.nodes[node_id][\"node_type\"] == \"or_gateway\" or process_graph.nodes[node_id][\"node_type\"] == \"xor_gateway\":\n",
    "        is_or=True\n",
    "    \n",
    "    if process_graph.in_degree(node_id) >= 1 and process_graph.out_degree(node_id)==1:\n",
    "        deg_state=True\n",
    "        \n",
    "    return has_this_node and is_or and deg_state"
   ]
  },
  {
   "cell_type": "markdown",
   "metadata": {},
   "source": [
    "# Backward Analysis"
   ]
  },
  {
   "cell_type": "code",
   "execution_count": 20,
   "metadata": {},
   "outputs": [],
   "source": [
    "def remove_and_reconnect(graph,node_id):\n",
    "    reverse_graph = graph.reverse(copy= True)\n",
    "    privious_nodes = list(reverse_graph.neighbors(node_id))\n",
    "    next_nodes = list(graph.neighbors(node_id))\n",
    "    for privious in privious_nodes:\n",
    "        for next_node in next_nodes:\n",
    "            graph.add_edge(privious,next_node)\n",
    "            graph.remove_edge(privious,node_id)\n",
    "            graph.remove_edge(node_id,next_node)\n",
    "    graph.remove_node(node_id)\n",
    "    return graph"
   ]
  },
  {
   "cell_type": "code",
   "execution_count": 21,
   "metadata": {},
   "outputs": [],
   "source": [
    "def remove_pattern_subgraph(graph, node_id_1, node_id_2):\n",
    "    pattern_subgraph = graph.subgraph([node_id_1,node_id_2])\n",
    "    reverse_graph = graph.reverse(copy= True)\n",
    "    privious_nodes = list(reverse_graph.neighbors(node_id_1))\n",
    "    next_nodes = list(graph.neighbors(node_id_2))\n",
    "    for privious in privious_nodes:\n",
    "        for next_node in next_nodes:\n",
    "            graph.add_edge(privious,next_node)\n",
    "    \n",
    "    for edg in list(pattern_subgraph.edges):\n",
    "        graph.remove_edge(edg[0],edg[1])\n",
    "    for nod in list(pattern_subgraph.nodes):\n",
    "        graph.remove_node(nod)\n",
    "    return graph"
   ]
  },
  {
   "cell_type": "code",
   "execution_count": 22,
   "metadata": {},
   "outputs": [],
   "source": [
    "def is_all_graph_verified(process_graph):\n",
    "    start_node = None\n",
    "    end_node = None\n",
    "    is_adj= False\n",
    "    for nod in process_graph.nodes:\n",
    "        if process_graph.nodes[nod][\"node_type\"] == \"start_event\":\n",
    "            start_node = nod\n",
    "        elif process_graph.nodes[nod][\"node_type\"] == \"end_event\":\n",
    "            end_node = nod\n",
    "    if (start_node != None) and (end_node != None) and (end_node in process_graph.neighbors(start_node)):\n",
    "        is_adj = True\n",
    "    return is_adj"
   ]
  },
  {
   "cell_type": "markdown",
   "metadata": {},
   "source": [
    "## Pattern Detectors "
   ]
  },
  {
   "cell_type": "markdown",
   "metadata": {},
   "source": [
    "### OR- Patterns"
   ]
  },
  {
   "cell_type": "code",
   "execution_count": 23,
   "metadata": {},
   "outputs": [],
   "source": [
    "def is_or_pattern(processGraph,node_id_1,node_id_2):\n",
    "    is_adj=False\n",
    "    is_node_type_correct = False\n",
    "    degree_condition=False\n",
    "    is_in_cycle=False\n",
    "    \n",
    "    node1 = processGraph.nodes[node_id_1]\n",
    "    node2 = processGraph.nodes[node_id_2]\n",
    "    cycles= list(nx.simple_cycles(processGraph))\n",
    "    \n",
    "    for cycle in cycles:\n",
    "        if (node_id_1 in cycle) and (node_id_2 in cycle) and (len(cycle)==2):\n",
    "            is_in_cycle= True\n",
    "    \n",
    "    is_adj= (node_id_1,node_id_2) in list(processGraph.edges())\n",
    "    is_node_type_correct= is_or_split(processGraph,node_id_1) and is_or_join(processGraph,node_id_2)\n",
    "    degree_condition = (processGraph.out_degree(node_id_1)>1) and (processGraph.in_degree(node_id_2)>1) \n",
    "    return is_adj and is_node_type_correct and degree_condition and (not(is_in_cycle)) and match_nodes(processGraph,node_id_1,node_id_2)"
   ]
  },
  {
   "cell_type": "code",
   "execution_count": 24,
   "metadata": {},
   "outputs": [],
   "source": [
    "def is_and_pattern(processGraph,node_id_1,node_id_2):\n",
    "    is_adj=False\n",
    "    is_node_type_correct = False\n",
    "    degree_condition=False\n",
    "    \n",
    "    node1 = processGraph.nodes[node_id_1]\n",
    "    node2 = processGraph.nodes[node_id_2]\n",
    "    \n",
    "    is_adj= (node_id_1,node_id_2) in list(processGraph.edges())\n",
    "    is_node_type_correct= is_and_split(processGraph,node_id_1) and is_and_join(processGraph,node_id_2)\n",
    "    degree_condition = (processGraph.out_degree(node_id_1)>=1) and (processGraph.in_degree(node_id_2)>=1)\n",
    "    return is_adj and is_node_type_correct and degree_condition and match_nodes(processGraph,node_id_1,node_id_2)"
   ]
  },
  {
   "cell_type": "code",
   "execution_count": 25,
   "metadata": {},
   "outputs": [],
   "source": [
    "def is_iteration_pattern(processGraph,node_id_1,node_id_2):\n",
    "    is_adj=False\n",
    "    is_node_type_correct = False\n",
    "    degree_condition=False\n",
    "    is_in_cycle=False\n",
    "    \n",
    "    node1 = processGraph.nodes[node_id_1]\n",
    "    node2 = processGraph.nodes[node_id_2]\n",
    "    cycles= list(nx.simple_cycles(processGraph))\n",
    "    \n",
    "    for cycle in cycles:\n",
    "        if (node_id_1 in cycle) and (node_id_2 in cycle) and (len(cycle)==2):\n",
    "            is_in_cycle= True\n",
    "    \n",
    "    is_adj= (node_id_1,node_id_2) in list(processGraph.edges())\n",
    "    is_node_type_correct= is_or_split(processGraph,node_id_1) and is_or_join(processGraph,node_id_2)\n",
    "    degree_condition = (processGraph.out_degree(node_id_1)>1) and (processGraph.in_degree(node_id_2)>1) \n",
    "    return is_adj and is_node_type_correct and degree_condition and is_in_cycle"
   ]
  },
  {
   "cell_type": "markdown",
   "metadata": {},
   "source": [
    "## extract patterns"
   ]
  },
  {
   "cell_type": "markdown",
   "metadata": {},
   "source": [
    "### OR-Patterns"
   ]
  },
  {
   "cell_type": "code",
   "execution_count": 26,
   "metadata": {},
   "outputs": [],
   "source": [
    "def get_or_patterns(processGraph):\n",
    "    or_patterns_pairs=[]\n",
    "    for node in list(processGraph.nodes):\n",
    "        if is_or_split(processGraph,node):\n",
    "            next_nodes=list(processGraph.neighbors(node))\n",
    "            for next_node in next_nodes:\n",
    "                if is_or_pattern(processGraph,node, next_node):\n",
    "                    or_patterns_pairs.append((node,next_node))\n",
    "    return or_patterns_pairs"
   ]
  },
  {
   "cell_type": "code",
   "execution_count": 27,
   "metadata": {},
   "outputs": [],
   "source": [
    "def remove_or_patterns(processGraph,or_patterns_pairs):\n",
    "    for or_pattern in or_patterns_pairs:\n",
    "        common_degree= processGraph.number_of_edges(or_pattern[0],or_pattern[1])\n",
    "        outer_split_degree= processGraph.out_degree(or_pattern[0])\n",
    "        inner_join_degree= processGraph.in_degree(or_pattern[1])\n",
    "        if (common_degree<outer_split_degree) or (common_degree<inner_join_degree):\n",
    "            processGraph.remove_edge(or_pattern[0],or_pattern[1])\n",
    "            print(\"removed ORP : \", or_pattern)\n",
    "        else:\n",
    "            processGraph = remove_pattern_subgraph(processGraph,or_pattern[0],or_pattern[1])\n",
    "            print(\"removed ORP : \", or_pattern)\n",
    "    return processGraph"
   ]
  },
  {
   "cell_type": "markdown",
   "metadata": {},
   "source": [
    "### Iteration Pattern"
   ]
  },
  {
   "cell_type": "code",
   "execution_count": 28,
   "metadata": {},
   "outputs": [],
   "source": [
    "def get_iteration_patterns(processGraph):\n",
    "    iteration_patterns_pairs=[]\n",
    "    for node in list(processGraph.nodes):\n",
    "        if is_or_split(processGraph,node):\n",
    "            next_nodes=list(processGraph.neighbors(node))\n",
    "            for next_node in next_nodes:\n",
    "                if is_iteration_pattern(processGraph,node, next_node):\n",
    "                    iteration_patterns_pairs.append((node,next_node))\n",
    "    return iteration_patterns_pairs"
   ]
  },
  {
   "cell_type": "code",
   "execution_count": 29,
   "metadata": {},
   "outputs": [],
   "source": [
    "def remove_iteration_patterns(processGraph,iteration_patterns_pairs):\n",
    "    for iteration_pattern in iteration_patterns_pairs:\n",
    "        processGraph = remove_pattern_subgraph(processGraph,iteration_pattern[1],iteration_pattern[0])\n",
    "        print(\"removed ITR: \", iteration_pattern)\n",
    "    return processGraph"
   ]
  },
  {
   "cell_type": "markdown",
   "metadata": {},
   "source": [
    "### And-Pattern"
   ]
  },
  {
   "cell_type": "code",
   "execution_count": 30,
   "metadata": {},
   "outputs": [],
   "source": [
    "def get_and_patterns(processGraph):\n",
    "    and_patterns_pairs=[]\n",
    "    for node in list(processGraph.nodes):\n",
    "        if is_and_split(processGraph,node):\n",
    "            next_nodes=list(processGraph.neighbors(node))\n",
    "            for next_node in next_nodes:\n",
    "                if is_and_pattern(processGraph,node, next_node):\n",
    "                    and_patterns_pairs.append((node,next_node))\n",
    "    return and_patterns_pairs"
   ]
  },
  {
   "cell_type": "code",
   "execution_count": 31,
   "metadata": {},
   "outputs": [],
   "source": [
    "def remove_and_patterns(processGraph,and_patterns_pairs):\n",
    "    for and_pattern in and_patterns_pairs:\n",
    "        common_degree= processGraph.number_of_edges(and_pattern[0],and_pattern[1])\n",
    "        outer_split_degree= processGraph.out_degree(and_pattern[0])\n",
    "        inner_join_degree= processGraph.in_degree(and_pattern[1])\n",
    "        if (common_degree<outer_split_degree) or (common_degree<inner_join_degree):\n",
    "            processGraph.remove_edge(and_pattern[0],and_pattern[1])\n",
    "            print(\"removed AND : \", and_pattern)\n",
    "        else:\n",
    "            processGraph = remove_pattern_subgraph(processGraph,and_pattern[0],and_pattern[1])\n",
    "            print(\"removed AND : \", and_pattern)\n",
    "    return processGraph\n",
    "    "
   ]
  },
  {
   "cell_type": "markdown",
   "metadata": {},
   "source": [
    "## Anomaly Patterns"
   ]
  },
  {
   "cell_type": "markdown",
   "metadata": {},
   "source": [
    "### Deadlock Pattern"
   ]
  },
  {
   "cell_type": "code",
   "execution_count": 32,
   "metadata": {},
   "outputs": [],
   "source": [
    "def predict_deadlocks(process_graph):\n",
    "    reverse_graph = process_graph.reverse(copy= True)\n",
    "    and_joins=[]\n",
    "    deadlock_determinisric=set()\n",
    "    deadlock_prob=set()\n",
    "    \n",
    "    for nod in process_graph.nodes:\n",
    "        if(is_and_join(process_graph,nod)):\n",
    "            and_joins.append(nod)\n",
    "    \n",
    "    for join in and_joins:\n",
    "        neighbour_types=[]\n",
    "        privious_nodes =[]\n",
    "        \n",
    "        number_of_xor_splits=0\n",
    "        number_of_or_splits=0\n",
    "        inner_degree= process_graph.in_degree(join)\n",
    "        privious_nodes = list(reverse_graph.neighbors(join))\n",
    "        \n",
    "        for nod in privious_nodes:\n",
    "            if process_graph.nodes[nod][\"node_type\"]==\"xor_gateway\" and is_or_split(process_graph,nod):\n",
    "                common_degree= process_graph.number_of_edges(nod,join)\n",
    "                if(common_degree >1):\n",
    "                    if join in deadlock_determinisric:\n",
    "                        deadlock_determinisric.remove(join)\n",
    "                    deadlock_determinisric.add(join)\n",
    "                    break\n",
    "                elif common_degree == 1:\n",
    "                    deadlock_prob.add(join)\n",
    "            elif process_graph.nodes[nod][\"node_type\"]==\"or_gateway\" and is_or_split(process_graph,nod):\n",
    "                deadlock_prob.add(join)\n",
    "    return (list(deadlock_determinisric),list(deadlock_prob))\n",
    "    "
   ]
  },
  {
   "cell_type": "markdown",
   "metadata": {},
   "source": [
    "### Livelock Pattern"
   ]
  },
  {
   "cell_type": "code",
   "execution_count": 33,
   "metadata": {},
   "outputs": [],
   "source": [
    "def is_livelock_pattern(processGraph,node_id_1,node_id_2):\n",
    "    is_adj=False\n",
    "    is_node_type_correct = False\n",
    "    degree_condition=False\n",
    "    is_in_cycle=False\n",
    "    \n",
    "    node1 = processGraph.nodes[node_id_1]\n",
    "    node2 = processGraph.nodes[node_id_2]\n",
    "    cycles= list(nx.simple_cycles(processGraph))\n",
    "    \n",
    "    for cycle in cycles:\n",
    "        if (node_id_1 in cycle) and (node_id_2 in cycle) and (len(cycle)==2):\n",
    "            is_in_cycle= True\n",
    "            \n",
    "    \n",
    "    is_adj= (node_id_1,node_id_2) in list(processGraph.edges())\n",
    "    is_node_type_correct= is_or_join(processGraph,node_id_2) and is_and_split(processGraph,node_id_1)\n",
    "    degree_condition = (processGraph.out_degree(node_id_1)>1) and (processGraph.in_degree(node_id_2)>1) \n",
    "    return is_adj and is_node_type_correct and degree_condition and is_in_cycle"
   ]
  },
  {
   "cell_type": "code",
   "execution_count": 34,
   "metadata": {},
   "outputs": [],
   "source": [
    "def get_livelock_patterns(processGraph):\n",
    "    livelock_patterns_pairs=[]\n",
    "    livelocks=[]\n",
    "    for node in list(processGraph.nodes):\n",
    "        if is_or_split(processGraph,node) or is_and_split(processGraph,node):\n",
    "            next_nodes=list(processGraph.neighbors(node))\n",
    "            for next_node in next_nodes:\n",
    "                if is_livelock_pattern(processGraph,node, next_node):\n",
    "                    livelock_patterns_pairs.append((node,next_node))\n",
    "    for pattern in livelock_patterns_pairs:\n",
    "        livelocks.append(pattern[1])\n",
    "    return livelocks"
   ]
  },
  {
   "cell_type": "markdown",
   "metadata": {},
   "source": [
    "## Backward Static Analysis"
   ]
  },
  {
   "cell_type": "code",
   "execution_count": 35,
   "metadata": {},
   "outputs": [],
   "source": [
    "def backward_analysis(processGraph):\n",
    "    process= processGraph.copy()\n",
    "    has_any_patterns = True\n",
    "    steps=[]\n",
    "    steps.append(process)\n",
    "    deadlock_deter=[]\n",
    "    deadlock_prob=[]\n",
    "    livelocks=[]\n",
    "    is_deterministic_sound = False\n",
    "    \n",
    "    \n",
    "    while(has_any_patterns):\n",
    "        # Remove Single nodes\n",
    "        single_nodes = []\n",
    "        for nod in processGraph.nodes:\n",
    "            if processGraph.in_degree(nod) == processGraph.out_degree(nod) == 1:\n",
    "                single_nodes.append(nod)\n",
    "        for nod in single_nodes:\n",
    "            process= remove_and_reconnect(process, nod)\n",
    "            print(\"REMOVED :\", nod)\n",
    "            \n",
    "        #Detect Patters\n",
    "        and_patterns = get_and_patterns(process)\n",
    "        or_patterns = get_or_patterns(process)\n",
    "        iteration_patterns= get_iteration_patterns(process)\n",
    "        \n",
    "        if len(or_patterns)>0:\n",
    "            process = remove_or_patterns(processGraph,or_patterns)\n",
    "            steps.append(process.copy())\n",
    "        elif len(and_patterns)>0:\n",
    "            process = remove_and_patterns(processGraph,and_patterns)\n",
    "            steps.append(process.copy())\n",
    "        elif len(iteration_patterns)>0:\n",
    "            process = remove_iteration_patterns(processGraph,iteration_patterns)\n",
    "            steps.append(process.copy())\n",
    "        else:\n",
    "            has_any_patterns=False\n",
    "    verified_graph= steps[len(steps)-1]\n",
    "    if is_all_graph_verified(verified_graph):\n",
    "        is_deterministic_sound = True\n",
    "    else:\n",
    "        #Detect Antipatterns\n",
    "        deadlocks=predict_deadlocks(processGraph)\n",
    "        livelocks= get_livelock_patterns(process_graph)\n",
    "        deadlock_deter = deadlock_deter+ deadlocks[0]\n",
    "        deadlock_prob = deadlock_prob+ deadlocks[1]\n",
    "    return (deadlock_deter,deadlock_prob,livelocks,steps,is_deterministic_sound)   \n",
    "    "
   ]
  },
  {
   "cell_type": "code",
   "execution_count": 36,
   "metadata": {},
   "outputs": [
    {
     "name": "stdout",
     "output_type": "stream",
     "text": [
      "<Detected Soundness Patterns>---------------------------------------------\n",
      "--------------------------------------------------------------------------\n",
      "deterministic sound :  False\n",
      "deterministick deadlocks =  []\n",
      "probabilistic deadlocks  =  []\n",
      "livelocks                =  []\n"
     ]
    }
   ],
   "source": [
    "print(\"<Detected Soundness Patterns>---------------------------------------------\")\n",
    "deadlock_det,deadlock_prob,livelock,steps,is_sound=backward_analysis(process_graph)\n",
    "print(\"--------------------------------------------------------------------------\")\n",
    "print(\"deterministic sound : \" , is_sound)\n",
    "print(\"deterministick deadlocks = \" , deadlock_det)\n",
    "print(\"probabilistic deadlocks  = \" , deadlock_prob)\n",
    "print(\"livelocks                = \" , livelock)"
   ]
  },
  {
   "cell_type": "code",
   "execution_count": 37,
   "metadata": {},
   "outputs": [
    {
     "data": {
      "image/png": "[encoded data removed]",
      "text/plain": [
       "<Figure size 432x288 with 1 Axes>"
      ]
     },
     "metadata": {},
     "output_type": "display_data"
    }
   ],
   "source": [
    "if len(steps)>=1:\n",
    "    draw_process_graph(steps[0])"
   ]
  },
  {
   "cell_type": "code",
   "execution_count": 38,
   "metadata": {},
   "outputs": [],
   "source": [
    "if len(steps)>=2:\n",
    "    draw_process_graph(steps[1])"
   ]
  },
  {
   "cell_type": "code",
   "execution_count": 39,
   "metadata": {},
   "outputs": [],
   "source": [
    "if len(steps)>=3:\n",
    "    draw_process_graph(steps[2])"
   ]
  },
  {
   "cell_type": "code",
   "execution_count": 40,
   "metadata": {},
   "outputs": [],
   "source": [
    "if len(steps)>=4:\n",
    "    draw_process_graph(steps[3])"
   ]
  }
 ],
 "metadata": {
  "kernelspec": {
   "display_name": "Python 3",
   "language": "python",
   "name": "python3"
  },
  "language_info": {
   "codemirror_mode": {
    "name": "ipython",
    "version": 3
   },
   "file_extension": ".py",
   "mimetype": "text/x-python",
   "name": "python",
   "nbconvert_exporter": "python",
   "pygments_lexer": "ipython3",
   "version": "3.7.6"
  }
 },
 "nbformat": 4,
 "nbformat_minor": 4
}
